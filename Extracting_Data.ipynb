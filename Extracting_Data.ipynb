{
 "cells": [
  {
   "cell_type": "code",
   "execution_count": 1,
   "metadata": {},
   "outputs": [
    {
     "name": "stdout",
     "output_type": "stream",
     "text": [
      "200720-11:53:44,203 nipype.utils INFO:\n",
      "\t Running nipype version 1.5.0-rc1 (latest: 1.5.0)\n"
     ]
    }
   ],
   "source": [
    "from utils.Variable_setup import *\n",
    "from utils.Extraction_functions import *\n",
    "import os"
   ]
  },
  {
   "cell_type": "code",
   "execution_count": 2,
   "metadata": {},
   "outputs": [],
   "source": [
    "metrics = Metrics\n",
    "paradigms = Metrics_paradigms + Extracted_Metrics_paradigms"
   ]
  },
  {
   "cell_type": "markdown",
   "metadata": {},
   "source": [
    "## Initialize nan filled arrays"
   ]
  },
  {
   "cell_type": "code",
   "execution_count": 3,
   "metadata": {},
   "outputs": [],
   "source": [
    "import numpy as np\n",
    "Extracted_Data = {}\n",
    "Extracted_Data['Description'] = ' ##SAGAB## Dict containing ROI-Wise extracted values for Basic Metrics'\n",
    "\n",
    "for proc in preprocs:\n",
    "    Extracted_Data[proc] = {}\n",
    "    for digm in paradigms:\n",
    "        Extracted_Data[proc][digm] = {}\n",
    "        for met in metrics:\n",
    "            Extracted_Data[proc][digm][met] = {}\n",
    "            for ROI in ROIS:\n",
    "                Extracted_Data[proc][digm][met][ROI] = np.full([num_subjects, num_sessions], np.nan)"
   ]
  },
  {
   "cell_type": "code",
   "execution_count": null,
   "metadata": {},
   "outputs": [
    {
     "name": "stdout",
     "output_type": "stream",
     "text": [
      "200720-11:53:53,931 nipype.interface INFO:\n",
      "\t stdout 2020-07-20T11:53:53.931283:1021.078754 \n",
      "200720-11:53:56,553 nipype.interface INFO:\n",
      "\t stdout 2020-07-20T11:53:56.553085:1050.304801 \n",
      "200720-11:53:59,309 nipype.interface INFO:\n",
      "\t stdout 2020-07-20T11:53:59.309551:1013.522353 \n",
      "200720-11:54:01,853 nipype.interface INFO:\n",
      "\t stdout 2020-07-20T11:54:01.853323:1020.881978 \n",
      "200720-11:54:04,523 nipype.interface INFO:\n",
      "\t stdout 2020-07-20T11:54:04.523325:1094.323536 \n",
      "200720-11:54:06,922 nipype.interface INFO:\n",
      "\t stdout 2020-07-20T11:54:06.922157:1078.698827 \n",
      "200720-11:54:09,602 nipype.interface INFO:\n",
      "\t stdout 2020-07-20T11:54:09.602371:1045.121216 \n",
      "200720-11:54:12,11 nipype.interface INFO:\n",
      "\t stdout 2020-07-20T11:54:12.011712:1045.666585 \n",
      "200720-11:54:14,304 nipype.interface INFO:\n",
      "\t stdout 2020-07-20T11:54:14.304689:1028.186090 \n",
      "200720-11:54:16,848 nipype.interface INFO:\n",
      "\t stdout 2020-07-20T11:54:16.847997:1010.291048 \n",
      "200720-11:54:19,518 nipype.interface INFO:\n",
      "\t stdout 2020-07-20T11:54:19.517955:1033.229968 \n",
      "200720-11:54:23,547 nipype.interface INFO:\n",
      "\t stdout 2020-07-20T11:54:23.547616:994.867570 \n",
      "200720-11:54:26,68 nipype.interface INFO:\n",
      "\t stdout 2020-07-20T11:54:26.067871:1047.788180 \n",
      "200720-11:54:29,688 nipype.interface INFO:\n",
      "\t stdout 2020-07-20T11:54:29.688501:1006.205789 \n",
      "200720-11:54:32,328 nipype.interface INFO:\n",
      "\t stdout 2020-07-20T11:54:32.327866:1001.194264 \n",
      "200720-11:54:34,721 nipype.interface INFO:\n",
      "\t stdout 2020-07-20T11:54:34.721347:977.936936 \n",
      "200720-11:54:37,286 nipype.interface INFO:\n",
      "\t stdout 2020-07-20T11:54:37.286348:1022.186218 \n",
      "200720-11:54:39,730 nipype.interface INFO:\n",
      "\t stdout 2020-07-20T11:54:39.730245:1028.072910 \n",
      "200720-11:54:42,314 nipype.interface INFO:\n",
      "\t stdout 2020-07-20T11:54:42.314401:1042.445944 \n",
      "200720-11:54:44,931 nipype.interface INFO:\n",
      "\t stdout 2020-07-20T11:54:44.930876:1045.755796 \n",
      "200720-11:54:47,314 nipype.interface INFO:\n",
      "\t stdout 2020-07-20T11:54:47.313823:1020.369238 \n",
      "200720-11:54:49,747 nipype.interface INFO:\n",
      "\t stdout 2020-07-20T11:54:49.747052:1074.642724 \n",
      "200720-11:54:52,378 nipype.interface INFO:\n",
      "\t stdout 2020-07-20T11:54:52.378231:1047.574669 \n",
      "200720-11:54:54,984 nipype.interface INFO:\n",
      "\t stdout 2020-07-20T11:54:54.983893:1036.594626 \n",
      "200720-11:54:57,635 nipype.interface INFO:\n",
      "\t stdout 2020-07-20T11:54:57.635365:1110.534213 \n",
      "200720-11:55:00,140 nipype.interface INFO:\n",
      "\t stdout 2020-07-20T11:55:00.140543:1030.701791 \n",
      "200720-11:55:02,874 nipype.interface INFO:\n",
      "\t stdout 2020-07-20T11:55:02.874385:1002.282614 \n",
      "200720-11:55:05,408 nipype.interface INFO:\n",
      "\t stdout 2020-07-20T11:55:05.408615:1000.305861 \n",
      "200720-11:55:08,67 nipype.interface INFO:\n",
      "\t stdout 2020-07-20T11:55:08.066814:1023.567621 \n",
      "200720-11:55:10,501 nipype.interface INFO:\n",
      "\t stdout 2020-07-20T11:55:10.501357:1066.699326 \n",
      "200720-11:55:13,200 nipype.interface INFO:\n",
      "\t stdout 2020-07-20T11:55:13.200191:1017.379611 \n",
      "200720-11:55:16,63 nipype.interface INFO:\n",
      "\t stdout 2020-07-20T11:55:16.063667:1001.794866 \n"
     ]
    }
   ],
   "source": [
    "%%time\n",
    "for ROI in ROIS:\n",
    "    fROI = os.path.join(ROIs_path,ROI)\n",
    "    for proc in preprocs:\n",
    "        for digm in paradigms:\n",
    "            for met in metrics:\n",
    "                for s, ses in enumerate(sess):\n",
    "                    fpath = os.path.join(Basic_maps_path,proc,digm,met,ses)                \n",
    "                    for i in range(1,num_subjects+1):\n",
    "                        substring = 'sub-'+str(i).zfill(2)+'_'+ses+'*'\n",
    "                        file = find(substring, fpath)\n",
    "                        if not file:\n",
    "                            continue\n",
    "                        else:\n",
    "                            file = ''.join(file)\n",
    "                            if os.path.isfile(os.path.join(os.getcwd(),'stat_result.json')):\n",
    "                                os.remove(os.path.join(os.getcwd(),'stat_result.json'))\n",
    "                            Extracted_Data[proc][digm][met][ROI][i-1,s] = FSLROI_Image(file, fROI)"
   ]
  },
  {
   "cell_type": "markdown",
   "metadata": {},
   "source": [
    "## This will save a pickle"
   ]
  },
  {
   "cell_type": "code",
   "execution_count": null,
   "metadata": {},
   "outputs": [],
   "source": [
    "import pickle\n",
    "\n",
    "\n",
    "with open(os.path.join(data_path,'SAGAB_Basic_Metric_ROIWISE_Extracted_Data.pckl'), 'wb') as handle:\n",
    "    pickle.dump(Extracted_Data, handle, protocol=pickle.HIGHEST_PROTOCOL)"
   ]
  },
  {
   "cell_type": "code",
   "execution_count": null,
   "metadata": {},
   "outputs": [],
   "source": []
  }
 ],
 "metadata": {
  "kernelspec": {
   "display_name": "Python 3",
   "language": "python",
   "name": "python3"
  },
  "language_info": {
   "codemirror_mode": {
    "name": "ipython",
    "version": 3
   },
   "file_extension": ".py",
   "mimetype": "text/x-python",
   "name": "python",
   "nbconvert_exporter": "python",
   "pygments_lexer": "ipython3",
   "version": "3.7.6"
  }
 },
 "nbformat": 4,
 "nbformat_minor": 4
}
