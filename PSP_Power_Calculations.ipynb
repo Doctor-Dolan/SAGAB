{
 "cells": [
  {
   "cell_type": "code",
   "execution_count": 1,
   "metadata": {},
   "outputs": [
    {
     "name": "stdout",
     "output_type": "stream",
     "text": [
      "200803-10:38:13,34 nipype.utils INFO:\n",
      "\t Running nipype version 1.5.0-rc1 (latest: 1.5.0)\n"
     ]
    }
   ],
   "source": [
    "from utils.Variable_setup import *\n",
    "from utils.Extraction_functions import *\n",
    "from utils.ICC_functions import *\n",
    "import os"
   ]
  },
  {
   "cell_type": "code",
   "execution_count": 2,
   "metadata": {},
   "outputs": [],
   "source": [
    "import pickle\n",
    "\n",
    "\n",
    "with open(os.path.join(data_path,'SAGAB_Basic_Metric_ROIWISE_Extracted_Data_Pedro_ROIS.pckl'), 'rb') as handle:\n",
    "    Extracted_Data = pickle.load(handle)"
   ]
  },
  {
   "cell_type": "code",
   "execution_count": 3,
   "metadata": {},
   "outputs": [],
   "source": [
    "preprocs = ['GDT', 'Regular']\n",
    "paradigms = ['Single_Band', 'Multi_Band', 'Multi_Shell']\n",
    "metrics=Metrics"
   ]
  },
  {
   "cell_type": "code",
   "execution_count": 7,
   "metadata": {},
   "outputs": [],
   "source": [
    "ROIS=Pedro_ROIS\n",
    "ROIs_path = Pedro_ROIs_path"
   ]
  },
  {
   "cell_type": "markdown",
   "metadata": {},
   "source": [
    "## Generate ICCs"
   ]
  },
  {
   "cell_type": "code",
   "execution_count": 8,
   "metadata": {},
   "outputs": [],
   "source": [
    "import numpy as np\n",
    "ICC_Data = {}\n",
    "ICC_Data['Description'] = ' ##SAGAB### ICC Values calculated from extracted Basic Metric data'\n",
    "\n",
    "for proc in preprocs:\n",
    "    ICC_Data[proc] = {}\n",
    "    for digm in paradigms:\n",
    "        ICC_Data[proc][digm] = {}\n",
    "        for met in Metrics:\n",
    "            ICC_Data[proc][digm][met] = {}\n",
    "            for ROI in ROIS:\n",
    "                ICC_Data[proc][digm][met][ROI] = {}"
   ]
  },
  {
   "cell_type": "code",
   "execution_count": 11,
   "metadata": {},
   "outputs": [
    {
     "data": {
      "text/plain": [
       "(0.7778214194582249, 0.040908932614684736, 0.13907461919979575)"
      ]
     },
     "execution_count": 11,
     "metadata": {},
     "output_type": "execute_result"
    }
   ],
   "source": [
    "ICC_Data[proc]['Multi_Band'][met][ROI]"
   ]
  },
  {
   "cell_type": "code",
   "execution_count": 10,
   "metadata": {},
   "outputs": [],
   "source": [
    "for ROI in ROIS:\n",
    "    for proc in preprocs:\n",
    "        for digm in paradigms:\n",
    "            for met in Metrics:\n",
    "                ICC_Data[proc][digm][met][ROI] = ICC(Extracted_Data[proc][digm][met][ROI])"
   ]
  },
  {
   "cell_type": "code",
   "execution_count": 12,
   "metadata": {},
   "outputs": [],
   "source": [
    "#Save ICC numpy\n",
    "with open(os.path.join(data_path,'SAGAB_Basic_Metric_PEDRO_ROIWISE_ICC_Scores.pckl'), 'wb') as handle:\n",
    "    pickle.dump(Extracted_Data, handle, protocol=pickle.HIGHEST_PROTOCOL)"
   ]
  },
  {
   "cell_type": "markdown",
   "metadata": {},
   "source": [
    "## Calculate Power"
   ]
  },
  {
   "cell_type": "code",
   "execution_count": 13,
   "metadata": {},
   "outputs": [],
   "source": [
    "import matplotlib.pyplot as plt\n",
    "import math\n",
    "from statsmodels.stats.power import  tt_ind_solve_power\n",
    "%matplotlib inline\n",
    "\n",
    "Ns = [1.02, 1.04, 1.06, 1.08, 1.10]\n",
    "\n",
    "Required_Subs_Data = {}\n",
    "Required_Subs_Data['Description'] = 'Number of subjects required to detect metric change of 2/4/6/8/10%'\n",
    "\n",
    "for ROI in ROIS:\n",
    "    Required_Subs_Data[ROI] = {}\n",
    "    for proc in preprocs:\n",
    "        Required_Subs_Data[ROI][proc] = {}\n",
    "        for digm in paradigms:\n",
    "            Required_Subs_Data[ROI][proc][digm] = {}\n",
    "            for met in metrics:\n",
    "                Required_Subs_Data[ROI][proc][digm][met] = []\n",
    "                CVbs = ICC_Data[proc][digm][met][ROI][2]\n",
    "                #Required_Subs_Data[ROI][proc][digm][met] = []\n",
    "\n",
    "                #A population of healthies has a gaussian profile with this mu, sigma \n",
    "                mu = np.nanmean(Extracted_Data[proc][digm][met][ROI])\n",
    "                sigma = CVbs * mu\n",
    "                for N in Ns:\n",
    "                    std_diff = (mu*N - mu) / sigma\n",
    "                    subjects = tt_ind_solve_power(effect_size = std_diff, nobs1 = None, alpha = 0.05, power = 0.80, ratio=1, alternative = 'larger' )\n",
    "                    Required_Subs_Data[ROI][proc][digm][met].append(math.ceil(subjects))"
   ]
  },
  {
   "cell_type": "code",
   "execution_count": 14,
   "metadata": {},
   "outputs": [],
   "source": [
    "import pickle\n",
    "\n",
    "\n",
    "with open(os.path.join(data_path,'SAGAB_Basic_Metric_PEDRO_ROIWISE_Power_Subject_Counts.pckl'), 'wb') as handle:\n",
    "    pickle.dump(Extracted_Data, handle, protocol=pickle.HIGHEST_PROTOCOL)"
   ]
  },
  {
   "cell_type": "code",
   "execution_count": 15,
   "metadata": {},
   "outputs": [
    {
     "data": {
      "text/plain": [
       "['mask_FA_Arcuate_SAGAB_Template_Space.nii.gz',\n",
       " 'mask_FA_CC_Genu_SAGAB_Template_Space.nii.gz',\n",
       " 'mask_FA_CC_splenium_SAGAB_Template_Space.nii.gz',\n",
       " 'mask_FA_LeftIC_SAGAB_Template_Space.nii.gz',\n",
       " 'mask_FA_LFWM_SAGAB_Template_Space.nii.gz',\n",
       " 'mask_FA_Orbito_Frontal_WM_SAGAB_Template_Space.nii.gz']"
      ]
     },
     "execution_count": 15,
     "metadata": {},
     "output_type": "execute_result"
    }
   ],
   "source": [
    "ROIS"
   ]
  },
  {
   "cell_type": "code",
   "execution_count": 35,
   "metadata": {},
   "outputs": [
    {
     "data": {
      "text/plain": [
       "819.238147"
      ]
     },
     "execution_count": 35,
     "metadata": {},
     "output_type": "execute_result"
    }
   ],
   "source": [
    "Extracted_Data['GDT']['Multi_Shell']['Axial']['Left_Caudate_OUT_GDT_ero.nii'][13,1]"
   ]
  },
  {
   "cell_type": "code",
   "execution_count": 17,
   "metadata": {},
   "outputs": [
    {
     "data": {
      "text/plain": [
       "{'Single_Band': {'Axial': [69, 18, 9, 6, 4],\n",
       "  'Fractional_Anisotropy': [218, 55, 25, 15, 10],\n",
       "  'Radial': [366, 92, 42, 24, 16],\n",
       "  'Trace': [155, 40, 18, 11, 7]},\n",
       " 'Multi_Band': {'Axial': [100, 26, 12, 7, 5],\n",
       "  'Fractional_Anisotropy': [164, 42, 19, 11, 8],\n",
       "  'Radial': [241, 61, 28, 16, 11],\n",
       "  'Trace': [110, 28, 13, 8, 6]},\n",
       " 'Multi_Shell': {'Axial': [84, 22, 10, 6, 5],\n",
       "  'Fractional_Anisotropy': [226, 57, 26, 15, 10],\n",
       "  'Radial': [458, 115, 52, 30, 19],\n",
       "  'Trace': [176, 45, 21, 12, 8]}}"
      ]
     },
     "execution_count": 17,
     "metadata": {},
     "output_type": "execute_result"
    }
   ],
   "source": [
    "Required_Subs_Data['mask_FA_Arcuate_SAGAB_Template_Space.nii.gz']['GDT']"
   ]
  },
  {
   "cell_type": "code",
   "execution_count": 11,
   "metadata": {},
   "outputs": [
    {
     "data": {
      "text/plain": [
       "{'Single_Band': {'Axial': [100, 26, 12, 7, 5],\n",
       "  'Fractional_Anisotropy': [1263, 317, 141, 80, 52],\n",
       "  'Radial': [102, 26, 12, 8, 5],\n",
       "  'Trace': [93, 24, 11, 7, 5]},\n",
       " 'Multi_Band': {'Axial': [223, 57, 26, 15, 10],\n",
       "  'Fractional_Anisotropy': [792, 199, 89, 51, 33],\n",
       "  'Radial': [186, 47, 22, 13, 9],\n",
       "  'Trace': [196, 50, 23, 13, 9]},\n",
       " 'Multi_Shell': {'Axial': [115, 30, 14, 8, 6],\n",
       "  'Fractional_Anisotropy': [638, 160, 72, 41, 27],\n",
       "  'Radial': [94, 24, 12, 7, 5],\n",
       "  'Trace': [99, 26, 12, 7, 5]}}"
      ]
     },
     "execution_count": 11,
     "metadata": {},
     "output_type": "execute_result"
    }
   ],
   "source": [
    "Required_Subs_Data['Left_Caudate_OUT_GDT_ero.nii']['GDT']"
   ]
  },
  {
   "cell_type": "code",
   "execution_count": 9,
   "metadata": {},
   "outputs": [
    {
     "ename": "IndexError",
     "evalue": "list index out of range",
     "output_type": "error",
     "traceback": [
      "\u001b[0;31m---------------------------------------------------------------------------\u001b[0m",
      "\u001b[0;31mIndexError\u001b[0m                                Traceback (most recent call last)",
      "\u001b[0;32m<ipython-input-9-54137a6e12c4>\u001b[0m in \u001b[0;36m<module>\u001b[0;34m\u001b[0m\n\u001b[1;32m     19\u001b[0m         \u001b[0mN_subs\u001b[0m\u001b[0;34m[\u001b[0m\u001b[0mmet\u001b[0m\u001b[0;34m]\u001b[0m\u001b[0;34m[\u001b[0m\u001b[0mdigm\u001b[0m\u001b[0;34m]\u001b[0m \u001b[0;34m=\u001b[0m \u001b[0;34m{\u001b[0m\u001b[0;34m}\u001b[0m\u001b[0;34m\u001b[0m\u001b[0;34m\u001b[0m\u001b[0m\n\u001b[1;32m     20\u001b[0m         \u001b[0;32mfor\u001b[0m \u001b[0mroi_i\u001b[0m\u001b[0;34m,\u001b[0m \u001b[0mROI\u001b[0m \u001b[0;32min\u001b[0m \u001b[0menumerate\u001b[0m\u001b[0;34m(\u001b[0m\u001b[0mCaudate_ROIS\u001b[0m\u001b[0;34m)\u001b[0m\u001b[0;34m:\u001b[0m\u001b[0;34m\u001b[0m\u001b[0;34m\u001b[0m\u001b[0m\n\u001b[0;32m---> 21\u001b[0;31m             \u001b[0mN_subs\u001b[0m\u001b[0;34m[\u001b[0m\u001b[0mmet\u001b[0m\u001b[0;34m]\u001b[0m\u001b[0;34m[\u001b[0m\u001b[0mdigm\u001b[0m\u001b[0;34m]\u001b[0m\u001b[0;34m[\u001b[0m\u001b[0mROI_Names\u001b[0m\u001b[0;34m[\u001b[0m\u001b[0mroi_i\u001b[0m\u001b[0;34m]\u001b[0m\u001b[0;34m]\u001b[0m\u001b[0;34m=\u001b[0m \u001b[0;34m[\u001b[0m\u001b[0;34m]\u001b[0m\u001b[0;34m\u001b[0m\u001b[0;34m\u001b[0m\u001b[0m\n\u001b[0m\u001b[1;32m     22\u001b[0m \u001b[0;34m\u001b[0m\u001b[0m\n\u001b[1;32m     23\u001b[0m \u001b[0;32mfor\u001b[0m \u001b[0mmet\u001b[0m \u001b[0;32min\u001b[0m \u001b[0mmetrics\u001b[0m\u001b[0;34m:\u001b[0m\u001b[0;34m\u001b[0m\u001b[0;34m\u001b[0m\u001b[0m\n",
      "\u001b[0;31mIndexError\u001b[0m: list index out of range"
     ]
    }
   ],
   "source": [
    "import matplotlib.pyplot as plt\n",
    "import math\n",
    "from statsmodels.stats.power import  tt_ind_solve_power\n",
    "%matplotlib inline\n",
    "\n",
    "Ns = [1.01, 1.03, 1.06, 1.1, 1.15, 1.20]\n",
    "\n",
    "\n",
    "proc = 'Regular'\n",
    "metrics = ['Radial', 'Axial', 'Trace']\n",
    "ROI_Names = ['Left_Caudate', 'Right_Caudate']\n",
    "\n",
    "N_subs = {}\n",
    "N_subs['Percentages'] = Ns\n",
    "\n",
    "for met in metrics:\n",
    "    N_subs[met] = {}\n",
    "    for digm in paradigms:\n",
    "        N_subs[met][digm] = {}\n",
    "        for roi_i, ROI in enumerate(Caudate_ROIS):\n",
    "            N_subs[met][digm][ROI_Names[roi_i]]= []\n",
    "\n",
    "for met in metrics:\n",
    "    for digm in paradigms:\n",
    "        for roi_i, ROI in enumerate(Caudate_ROIS):\n",
    "            CVbs = ICC_Data[proc][digm][met][ROI][2]\n",
    "\n",
    "            #A population of healthies has a gaussian profile with this mu, sigma \n",
    "            mu = np.nanmean(Extracted_Data[proc][digm][met][ROI])\n",
    "            sigma = CVbs * mu\n",
    "            for N in Ns:\n",
    "                std_diff = (mu*N - mu) / sigma\n",
    "                N_subs[met][digm][ROI_Names[roi_i]].append(math.ceil(tt_ind_solve_power(effect_size = std_diff, nobs1 = None, alpha = 0.05, power = 0.80, ratio=1, alternative = 'larger' )))\n",
    "                "
   ]
  },
  {
   "cell_type": "code",
   "execution_count": 10,
   "metadata": {},
   "outputs": [
    {
     "data": {
      "text/plain": [
       "{'Single_Band': {'Axial': [100, 26, 12, 7, 5],\n",
       "  'Fractional_Anisotropy': [1263, 317, 141, 80, 52],\n",
       "  'Radial': [102, 26, 12, 8, 5],\n",
       "  'Trace': [93, 24, 11, 7, 5]},\n",
       " 'Multi_Band': {'Axial': [223, 57, 26, 15, 10],\n",
       "  'Fractional_Anisotropy': [792, 199, 89, 51, 33],\n",
       "  'Radial': [186, 47, 22, 13, 9],\n",
       "  'Trace': [196, 50, 23, 13, 9]},\n",
       " 'Multi_Shell': {'Axial': [115, 30, 14, 8, 6],\n",
       "  'Fractional_Anisotropy': [638, 160, 72, 41, 27],\n",
       "  'Radial': [94, 24, 12, 7, 5],\n",
       "  'Trace': [99, 26, 12, 7, 5]}}"
      ]
     },
     "execution_count": 10,
     "metadata": {},
     "output_type": "execute_result"
    }
   ],
   "source": [
    "Required_Subs_Data['Left_Caudate_OUT_GDT_ero.nii']['GDT']"
   ]
  },
  {
   "cell_type": "code",
   "execution_count": null,
   "metadata": {},
   "outputs": [],
   "source": []
  }
 ],
 "metadata": {
  "kernelspec": {
   "display_name": "Python 3",
   "language": "python",
   "name": "python3"
  },
  "language_info": {
   "codemirror_mode": {
    "name": "ipython",
    "version": 3
   },
   "file_extension": ".py",
   "mimetype": "text/x-python",
   "name": "python",
   "nbconvert_exporter": "python",
   "pygments_lexer": "ipython3",
   "version": "3.7.6"
  }
 },
 "nbformat": 4,
 "nbformat_minor": 4
}
