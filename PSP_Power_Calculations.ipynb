{
 "cells": [
  {
   "cell_type": "code",
   "execution_count": 1,
   "metadata": {},
   "outputs": [
    {
     "name": "stdout",
     "output_type": "stream",
     "text": [
      "200724-14:33:34,470 nipype.utils INFO:\n",
      "\t Running nipype version 1.5.0-rc1 (latest: 1.5.0)\n"
     ]
    }
   ],
   "source": [
    "from utils.Variable_setup import *\n",
    "from utils.Extraction_functions import *\n",
    "from utils.ICC_functions import *\n",
    "import os"
   ]
  },
  {
   "cell_type": "code",
   "execution_count": 2,
   "metadata": {},
   "outputs": [],
   "source": [
    "import pickle\n",
    "\n",
    "\n",
    "with open(os.path.join(data_path,'SAGAB_Basic_Metric_ROIWISE_Extracted_Data.pckl'), 'rb') as handle:\n",
    "    Extracted_Data = pickle.load(handle)"
   ]
  },
  {
   "cell_type": "code",
   "execution_count": 3,
   "metadata": {},
   "outputs": [],
   "source": [
    "preprocs = ['GDT', 'Regular']\n",
    "paradigms = ['Single_Band', 'Multi_Band', 'Multi_Shell']\n",
    "metrics=Metrics"
   ]
  },
  {
   "cell_type": "markdown",
   "metadata": {},
   "source": [
    "## Generate ICCs"
   ]
  },
  {
   "cell_type": "code",
   "execution_count": 4,
   "metadata": {},
   "outputs": [],
   "source": [
    "import numpy as np\n",
    "ICC_Data = {}\n",
    "ICC_Data['Description'] = ' ##SAGAB### ICC Values calculated from extracted Basic Metric data'\n",
    "\n",
    "for proc in preprocs:\n",
    "    ICC_Data[proc] = {}\n",
    "    for digm in paradigms:\n",
    "        ICC_Data[proc][digm] = {}\n",
    "        for met in Metrics:\n",
    "            ICC_Data[proc][digm][met] = {}\n",
    "            for ROI in ROIS:\n",
    "                ICC_Data[proc][digm][met][ROI] = {}"
   ]
  },
  {
   "cell_type": "code",
   "execution_count": 5,
   "metadata": {},
   "outputs": [],
   "source": [
    "for ROI in ROIS:\n",
    "    for proc in preprocs:\n",
    "        for digm in paradigms:\n",
    "            for met in Metrics:\n",
    "                ICC_Data[proc][digm][met][ROI] = ICC(Extracted_Data[proc][digm][met][ROI])"
   ]
  },
  {
   "cell_type": "code",
   "execution_count": 6,
   "metadata": {},
   "outputs": [],
   "source": [
    "#Save ICC numpy\n",
    "with open(os.path.join(data_path,'SAGAB_Basic_Metric_ROIWISE_ICC_Scores.pckl'), 'wb') as handle:\n",
    "    pickle.dump(Extracted_Data, handle, protocol=pickle.HIGHEST_PROTOCOL)"
   ]
  },
  {
   "cell_type": "code",
   "execution_count": 18,
   "metadata": {},
   "outputs": [
    {
     "data": {
      "text/plain": [
       "['AFANT_L_DTI_OUT_GDT.nii',\n",
       " 'AFANT_R_DTI_OUT_GDT.nii',\n",
       " 'AFLONG_L_DTI_OUT_GDT.nii',\n",
       " 'AFLONG_R_DTI_OUT_GDT.nii',\n",
       " 'AFPOST_L_DTI_OUT_GDT.nii',\n",
       " 'IFOF_L_DTI_OUT_GDT.nii',\n",
       " 'IFOF_R_DTI_OUT_GDT.nii',\n",
       " 'ILF_L_DTI_OUT_GDT.nii',\n",
       " 'ILF_R_DTI_OUT_GDT.nii',\n",
       " 'UNC_L_DTI_OUT_GDT.nii',\n",
       " 'UNC_R_DTI_OUT_GDT.nii',\n",
       " 'CING_R_SD_OUT_GDT.nii',\n",
       " 'CING_L_SD_OUT_GDT.nii',\n",
       " 'CCROSGEN_SD_OUT_GDT.nii',\n",
       " 'CCISTSPL_SD_OUT_GDT.nii',\n",
       " 'AFPOST_R_DTI_OUT_GDT.nii',\n",
       " 'Right_Caudate_OUT_GDT_ero.nii',\n",
       " 'Left_Caudate_OUT_GDT_ero.nii']"
      ]
     },
     "execution_count": 18,
     "metadata": {},
     "output_type": "execute_result"
    }
   ],
   "source": [
    "ROIS"
   ]
  },
  {
   "cell_type": "code",
   "execution_count": 21,
   "metadata": {},
   "outputs": [
    {
     "data": {
      "text/plain": [
       "{'Single_Band': {'Axial': [100, 26, 12, 7, 5],\n",
       "  'Fractional_Anisotropy': [1263, 317, 141, 80, 52],\n",
       "  'Radial': [102, 26, 12, 8, 5],\n",
       "  'Trace': [93, 24, 11, 7, 5]},\n",
       " 'Multi_Band': {'Axial': [223, 57, 26, 15, 10],\n",
       "  'Fractional_Anisotropy': [792, 199, 89, 51, 33],\n",
       "  'Radial': [186, 47, 22, 13, 9],\n",
       "  'Trace': [196, 50, 23, 13, 9]},\n",
       " 'Multi_Shell': {'Axial': [115, 30, 14, 8, 6],\n",
       "  'Fractional_Anisotropy': [638, 160, 72, 41, 27],\n",
       "  'Radial': [94, 24, 12, 7, 5],\n",
       "  'Trace': [99, 26, 12, 7, 5]}}"
      ]
     },
     "execution_count": 21,
     "metadata": {},
     "output_type": "execute_result"
    }
   ],
   "source": [
    "Required_Subs_Data['Left_Caudate_OUT_GDT_ero.nii']['GDT']"
   ]
  },
  {
   "cell_type": "markdown",
   "metadata": {},
   "source": [
    "## Calculate Power"
   ]
  },
  {
   "cell_type": "code",
   "execution_count": 11,
   "metadata": {},
   "outputs": [],
   "source": [
    "import matplotlib.pyplot as plt\n",
    "import math\n",
    "from statsmodels.stats.power import  tt_ind_solve_power\n",
    "%matplotlib inline\n",
    "\n",
    "Ns = [1.02, 1.04, 1.06, 1.08, 1.10]\n",
    "\n",
    "Required_Subs_Data = {}\n",
    "Required_Subs_Data['Description'] = 'Number of subjects required to detect metric change of 2/4/6/8/10%'\n",
    "\n",
    "for ROI in ROIS:\n",
    "    Required_Subs_Data[ROI] = {}\n",
    "    for proc in preprocs:\n",
    "        Required_Subs_Data[ROI][proc] = {}\n",
    "        for digm in paradigms:\n",
    "            Required_Subs_Data[ROI][proc][digm] = {}\n",
    "            for met in metrics:\n",
    "                Required_Subs_Data[ROI][proc][digm][met] = []\n",
    "                CVbs = ICC_Data[proc][digm][met][ROI][2]\n",
    "                #Required_Subs_Data[ROI][proc][digm][met] = []\n",
    "\n",
    "                #A population of healthies has a gaussian profile with this mu, sigma \n",
    "                mu = np.nanmean(Extracted_Data[proc][digm][met][ROI])\n",
    "                sigma = CVbs * mu\n",
    "                for N in Ns:\n",
    "                    std_diff = (mu*N - mu) / sigma\n",
    "                    subjects = tt_ind_solve_power(effect_size = std_diff, nobs1 = None, alpha = 0.05, power = 0.80, ratio=1, alternative = 'larger' )\n",
    "                    Required_Subs_Data[ROI][proc][digm][met].append(math.ceil(subjects))"
   ]
  },
  {
   "cell_type": "code",
   "execution_count": null,
   "metadata": {},
   "outputs": [],
   "source": [
    "import pickle\n",
    "\n",
    "\n",
    "with open(os.path.join(data_path,'SAGAB_Basic_Metric_ROIWISE_Power_Subject_Counts.pckl'), 'wb') as handle:\n",
    "    pickle.dump(Extracted_Data, handle, protocol=pickle.HIGHEST_PROTOCOL)"
   ]
  },
  {
   "cell_type": "code",
   "execution_count": 74,
   "metadata": {},
   "outputs": [],
   "source": [
    "import matplotlib.pyplot as plt\n",
    "import math\n",
    "from statsmodels.stats.power import  tt_ind_solve_power\n",
    "%matplotlib inline\n",
    "\n",
    "Ns = [1.01, 1.03, 1.06, 1.1, 1.15, 1.20]\n",
    "\n",
    "\n",
    "proc = 'Regular'\n",
    "metrics = ['Radial', 'Axial', 'Trace']\n",
    "ROI_Names = ['Left_Caudate', 'Right_Caudate']\n",
    "\n",
    "N_subs = {}\n",
    "N_subs['Percentages'] = Ns\n",
    "\n",
    "for met in metrics:\n",
    "    N_subs[met] = {}\n",
    "    for digm in paradigms:\n",
    "        N_subs[met][digm] = {}\n",
    "        for roi_i, ROI in enumerate(Caudate_ROIS):\n",
    "            N_subs[met][digm][ROI_Names[roi_i]]= []\n",
    "\n",
    "for met in metrics:\n",
    "    for digm in paradigms:\n",
    "        for roi_i, ROI in enumerate(Caudate_ROIS):\n",
    "            CVbs = ICC_Data[proc][digm][met][ROI][2]\n",
    "\n",
    "            #A population of healthies has a gaussian profile with this mu, sigma \n",
    "            mu = np.nanmean(Extracted_Data[proc][digm][met][ROI])\n",
    "            sigma = CVbs * mu\n",
    "            for N in Ns:\n",
    "                std_diff = (mu*N - mu) / sigma\n",
    "                N_subs[met][digm][ROI_Names[roi_i]].append(math.ceil(tt_ind_solve_power(effect_size = std_diff, nobs1 = None, alpha = 0.05, power = 0.80, ratio=1, alternative = 'larger' )))\n",
    "                "
   ]
  }
 ],
 "metadata": {
  "kernelspec": {
   "display_name": "Python 3",
   "language": "python",
   "name": "python3"
  },
  "language_info": {
   "codemirror_mode": {
    "name": "ipython",
    "version": 3
   },
   "file_extension": ".py",
   "mimetype": "text/x-python",
   "name": "python",
   "nbconvert_exporter": "python",
   "pygments_lexer": "ipython3",
   "version": "3.7.6"
  }
 },
 "nbformat": 4,
 "nbformat_minor": 4
}
