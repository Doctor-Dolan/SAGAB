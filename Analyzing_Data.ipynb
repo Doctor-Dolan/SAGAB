{
 "cells": [
  {
   "cell_type": "code",
   "execution_count": 58,
   "metadata": {},
   "outputs": [],
   "source": [
    "from utils.Variable_setup import *\n",
    "from utils.Extraction_functions import *\n",
    "from utils.ICC_functions import *\n",
    "import os"
   ]
  },
  {
   "cell_type": "code",
   "execution_count": 59,
   "metadata": {},
   "outputs": [],
   "source": [
    "import pickle\n",
    "\n",
    "\n",
    "with open(os.path.join(data_path,'Extracted_Data.pckl'), 'rb') as handle:\n",
    "    Extracted_Data = pickle.load(handle)"
   ]
  },
  {
   "cell_type": "code",
   "execution_count": 60,
   "metadata": {},
   "outputs": [],
   "source": [
    "preprocs = ['GDT', 'Regular']\n",
    "paradigms = ['Single_Band', 'Multi_Band', 'Multi_Shell']"
   ]
  },
  {
   "cell_type": "code",
   "execution_count": 61,
   "metadata": {},
   "outputs": [],
   "source": [
    "import os"
   ]
  },
  {
   "cell_type": "code",
   "execution_count": 62,
   "metadata": {},
   "outputs": [
    {
     "data": {
      "text/plain": [
       "['Right_Caudate_OUT_GDT_ero.nii', 'Left_Caudate_OUT_GDT_ero.nii']"
      ]
     },
     "execution_count": 62,
     "metadata": {},
     "output_type": "execute_result"
    }
   ],
   "source": [
    "Caudate_ROIS = list(filter(lambda k: 'Caudate' in k, ROIS))\n",
    "\n",
    "Caudate_ROIS"
   ]
  },
  {
   "cell_type": "code",
   "execution_count": 63,
   "metadata": {},
   "outputs": [],
   "source": [
    "import numpy as np\n",
    "ICC_Data = {}\n",
    "\n",
    "for proc in preprocs:\n",
    "    ICC_Data[proc] = {}\n",
    "    for digm in paradigms:\n",
    "        ICC_Data[proc][digm] = {}\n",
    "        for met in Metrics:\n",
    "            ICC_Data[proc][digm][met] = {}\n",
    "            for ROI in ROIS:\n",
    "                ICC_Data[proc][digm][met][ROI] = {}"
   ]
  },
  {
   "cell_type": "code",
   "execution_count": 64,
   "metadata": {},
   "outputs": [],
   "source": [
    "for ROI in ROIS:\n",
    "    fROI = os.path.join(ROIs_path,ROI)\n",
    "    for proc in preprocs:\n",
    "        for digm in paradigms:\n",
    "            for met in Metrics:\n",
    "                ICC_Data[proc][digm][met][ROI] = ICC(Extracted_Data[proc][digm][met][ROI])"
   ]
  },
  {
   "cell_type": "code",
   "execution_count": 65,
   "metadata": {},
   "outputs": [
    {
     "data": {
      "text/plain": [
       "['Axial', 'Fractional_Anisotropy', 'Radial', 'Trace']"
      ]
     },
     "execution_count": 65,
     "metadata": {},
     "output_type": "execute_result"
    }
   ],
   "source": [
    "Metrics"
   ]
  },
  {
   "cell_type": "code",
   "execution_count": 69,
   "metadata": {},
   "outputs": [
    {
     "name": "stdout",
     "output_type": "stream",
     "text": [
      "684.0563897349399 0.06747119793788978 46.1541040724844\n"
     ]
    },
    {
     "ename": "NameError",
     "evalue": "name 'ceil' is not defined",
     "output_type": "error",
     "traceback": [
      "\u001b[0;31m---------------------------------------------------------------------------\u001b[0m",
      "\u001b[0;31mNameError\u001b[0m                                 Traceback (most recent call last)",
      "\u001b[0;32m<ipython-input-69-e9ef59c7ccc8>\u001b[0m in \u001b[0;36m<module>\u001b[0;34m\u001b[0m\n\u001b[1;32m     22\u001b[0m                 \u001b[0mstd_diff\u001b[0m \u001b[0;34m=\u001b[0m \u001b[0;34m(\u001b[0m\u001b[0mmu\u001b[0m\u001b[0;34m*\u001b[0m\u001b[0mN\u001b[0m \u001b[0;34m-\u001b[0m \u001b[0mmu\u001b[0m\u001b[0;34m)\u001b[0m \u001b[0;34m/\u001b[0m \u001b[0msigma\u001b[0m\u001b[0;34m\u001b[0m\u001b[0;34m\u001b[0m\u001b[0m\n\u001b[1;32m     23\u001b[0m                 \u001b[0msubjects\u001b[0m \u001b[0;34m=\u001b[0m \u001b[0mtt_ind_solve_power\u001b[0m\u001b[0;34m(\u001b[0m\u001b[0meffect_size\u001b[0m \u001b[0;34m=\u001b[0m \u001b[0mstd_diff\u001b[0m\u001b[0;34m,\u001b[0m \u001b[0mnobs1\u001b[0m \u001b[0;34m=\u001b[0m \u001b[0;32mNone\u001b[0m\u001b[0;34m,\u001b[0m \u001b[0malpha\u001b[0m \u001b[0;34m=\u001b[0m \u001b[0;36m0.05\u001b[0m\u001b[0;34m,\u001b[0m \u001b[0mpower\u001b[0m \u001b[0;34m=\u001b[0m \u001b[0;36m0.80\u001b[0m\u001b[0;34m,\u001b[0m \u001b[0mratio\u001b[0m\u001b[0;34m=\u001b[0m\u001b[0;36m1\u001b[0m\u001b[0;34m,\u001b[0m \u001b[0malternative\u001b[0m \u001b[0;34m=\u001b[0m \u001b[0;34m'two-sided'\u001b[0m \u001b[0;34m)\u001b[0m\u001b[0;34m\u001b[0m\u001b[0;34m\u001b[0m\u001b[0m\n\u001b[0;32m---> 24\u001b[0;31m                 \u001b[0mprint\u001b[0m\u001b[0;34m(\u001b[0m\u001b[0mmet\u001b[0m\u001b[0;34m,\u001b[0m \u001b[0mROI_Names\u001b[0m\u001b[0;34m[\u001b[0m\u001b[0mroi_i\u001b[0m\u001b[0;34m]\u001b[0m\u001b[0;34m,\u001b[0m \u001b[0mdigm\u001b[0m\u001b[0;34m,\u001b[0m \u001b[0;34m'N: '\u001b[0m\u001b[0;34m,\u001b[0m\u001b[0mN\u001b[0m\u001b[0;34m,\u001b[0m \u001b[0;34m'\\n'\u001b[0m\u001b[0;34m,\u001b[0m \u001b[0;34m'Subjects: '\u001b[0m\u001b[0;34m,\u001b[0m \u001b[0mceil\u001b[0m\u001b[0;34m(\u001b[0m\u001b[0msubjects\u001b[0m\u001b[0;34m)\u001b[0m\u001b[0;34m)\u001b[0m\u001b[0;34m\u001b[0m\u001b[0;34m\u001b[0m\u001b[0m\n\u001b[0m\u001b[1;32m     25\u001b[0m             \u001b[0mprint\u001b[0m\u001b[0;34m(\u001b[0m \u001b[0;34m'\\n'\u001b[0m\u001b[0;34m)\u001b[0m\u001b[0;34m\u001b[0m\u001b[0;34m\u001b[0m\u001b[0m\n",
      "\u001b[0;31mNameError\u001b[0m: name 'ceil' is not defined"
     ]
    }
   ],
   "source": [
    "import matplotlib.pyplot as plt\n",
    "from statsmodels.stats.power import  tt_ind_solve_power\n",
    "%matplotlib inline\n",
    "\n",
    "Ns = [1.01, 1.03, 1.06, 1.1, 1.15, 1.20]\n",
    "\n",
    "\n",
    "proc = 'GDT'\n",
    "metrics = ['Radial', 'Axial', 'Mean']\n",
    "ROI_Names = ['Left_Caudate', 'Right_Caudate']\n",
    "\n",
    "for met in metrics:\n",
    "    for digm in paradigms:\n",
    "        for roi_i, ROI in enumerate(Caudate_ROIS):\n",
    "            CVbs = ICC_Data[proc][digm][met][ROI][2]\n",
    "\n",
    "            #A population of healthies has a gaussian profile with this mu, sigma \n",
    "            mu = np.nanmean(Extracted_Data[proc][digm][met][ROI])\n",
    "            sigma = CVbs * mu\n",
    "            print(mu,CVbs, sigma)\n",
    "            for N in Ns:\n",
    "                std_diff = (mu*N - mu) / sigma\n",
    "                subjects = tt_ind_solve_power(effect_size = std_diff, nobs1 = None, alpha = 0.05, power = 0.80, ratio=1, alternative = 'two-sided' )\n",
    "                print(met, ROI_Names[roi_i], digm, 'N: ',N, '\\n', 'Subjects: ', ceil(subjects))\n",
    "            print( '\\n')"
   ]
  },
  {
   "cell_type": "code",
   "execution_count": 74,
   "metadata": {},
   "outputs": [],
   "source": [
    "import matplotlib.pyplot as plt\n",
    "import math\n",
    "from statsmodels.stats.power import  tt_ind_solve_power\n",
    "%matplotlib inline\n",
    "\n",
    "Ns = [1.01, 1.03, 1.06, 1.1, 1.15, 1.20]\n",
    "\n",
    "\n",
    "proc = 'Regular'\n",
    "metrics = ['Radial', 'Axial', 'Trace']\n",
    "ROI_Names = ['Left_Caudate', 'Right_Caudate']\n",
    "\n",
    "N_subs = {}\n",
    "N_subs['Percentages'] = Ns\n",
    "\n",
    "for met in metrics:\n",
    "    N_subs[met] = {}\n",
    "    for digm in paradigms:\n",
    "        N_subs[met][digm] = {}\n",
    "        for roi_i, ROI in enumerate(Caudate_ROIS):\n",
    "            N_subs[met][digm][ROI_Names[roi_i]]= []\n",
    "\n",
    "for met in metrics:\n",
    "    for digm in paradigms:\n",
    "        for roi_i, ROI in enumerate(Caudate_ROIS):\n",
    "            CVbs = ICC_Data[proc][digm][met][ROI][2]\n",
    "\n",
    "            #A population of healthies has a gaussian profile with this mu, sigma \n",
    "            mu = np.nanmean(Extracted_Data[proc][digm][met][ROI])\n",
    "            sigma = CVbs * mu\n",
    "            for N in Ns:\n",
    "                std_diff = (mu*N - mu) / sigma\n",
    "                N_subs[met][digm][ROI_Names[roi_i]].append(math.ceil(tt_ind_solve_power(effect_size = std_diff, nobs1 = None, alpha = 0.05, power = 0.80, ratio=1, alternative = 'larger' )))\n",
    "                "
   ]
  },
  {
   "cell_type": "code",
   "execution_count": 76,
   "metadata": {},
   "outputs": [
    {
     "data": {
      "text/plain": [
       "['DKI', 'DKI_Thresholded', 'NODDI', 'MAPMRI']"
      ]
     },
     "execution_count": 76,
     "metadata": {},
     "output_type": "execute_result"
    }
   ],
   "source": [
    "Advanced_Metrics"
   ]
  },
  {
   "cell_type": "code",
   "execution_count": 40,
   "metadata": {},
   "outputs": [
    {
     "data": {
      "text/plain": [
       "array([[1339.564996, 1316.852963, 1323.729793],\n",
       "       [1285.542171, 1281.236155, 1275.901616],\n",
       "       [1343.14893 ,         nan, 1330.419743],\n",
       "       [1287.110989, 1290.582636, 1301.400939],\n",
       "       [1490.183903, 1489.269307, 1507.705215],\n",
       "       [1397.477907,         nan, 1413.641134],\n",
       "       [1409.592878, 1406.415937, 1374.768872],\n",
       "       [        nan,         nan,         nan],\n",
       "       [        nan, 1307.726654, 1322.044339],\n",
       "       [        nan, 1283.523501, 1250.438056],\n",
       "       [1375.988165, 1395.746145, 1382.351749],\n",
       "       [1422.062139, 1418.902881, 1414.620973],\n",
       "       [        nan, 1509.131218, 1440.690114],\n",
       "       [1280.614143, 1264.430907,         nan],\n",
       "       [1456.708056, 1619.965046, 1536.395687],\n",
       "       [1363.709677, 1392.174508, 1374.226755],\n",
       "       [1573.006294, 1406.529655, 1617.606567],\n",
       "       [        nan, 1451.901795,         nan],\n",
       "       [1305.304579, 1296.522271,         nan],\n",
       "       [1530.525521,         nan, 1524.87142 ],\n",
       "       [1388.183309,         nan, 1611.319072],\n",
       "       [        nan, 1530.261987, 1664.089741],\n",
       "       [        nan,         nan, 1452.513922],\n",
       "       [        nan, 1548.350313,         nan],\n",
       "       [        nan, 1431.337043, 1592.296376],\n",
       "       [        nan, 1364.276608, 1432.544375],\n",
       "       [1438.16048 , 1505.179689, 1560.782938],\n",
       "       [1315.247972, 1257.521935, 1415.002029],\n",
       "       [1509.609351, 1463.978612, 1432.705642],\n",
       "       [1401.688211, 1395.925676,         nan]])"
      ]
     },
     "execution_count": 40,
     "metadata": {},
     "output_type": "execute_result"
    }
   ],
   "source": [
    "Caudate_Data[proc][digm][met][ROI]"
   ]
  },
  {
   "cell_type": "code",
   "execution_count": null,
   "metadata": {},
   "outputs": [],
   "source": []
  }
 ],
 "metadata": {
  "kernelspec": {
   "display_name": "Python 3",
   "language": "python",
   "name": "python3"
  },
  "language_info": {
   "codemirror_mode": {
    "name": "ipython",
    "version": 3
   },
   "file_extension": ".py",
   "mimetype": "text/x-python",
   "name": "python",
   "nbconvert_exporter": "python",
   "pygments_lexer": "ipython3",
   "version": "3.7.6"
  }
 },
 "nbformat": 4,
 "nbformat_minor": 4
}
