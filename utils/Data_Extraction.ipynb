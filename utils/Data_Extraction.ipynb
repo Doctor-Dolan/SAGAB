{
 "cells": [
  {
   "cell_type": "code",
   "execution_count": null,
   "metadata": {},
   "outputs": [],
   "source": [
    "from configparser import ConfigParser\n",
    "parser = ConfigParser()\n",
    "\n",
    "parser.read('config.ini')\n",
    "\n",
    "from nipype.interfaces.fsl import ExtractROI\n",
    "from nipype.testing import anatfile\n",
    "fslroi = ExtractROI(in_file=anatfile, roi_file='bar.nii', t_min=0,\n",
    "                    t_size=1)\n",
    "\n"
   ]
  },
  {
   "cell_type": "code",
   "execution_count": 25,
   "metadata": {},
   "outputs": [],
   "source": [
    "from nipype.interfaces.fsl import ExtractROI\n",
    "from nipype.testing import anatfile\n",
    "fslroi = ExtractROI(in_file=anatfile, roi_file='bar.nii', t_min=0,\n",
    "                    t_size=1)"
   ]
  },
  {
   "cell_type": "code",
   "execution_count": 31,
   "metadata": {},
   "outputs": [
    {
     "data": {
      "text/plain": [
       "True"
      ]
     },
     "execution_count": 31,
     "metadata": {},
     "output_type": "execute_result"
    }
   ],
   "source": [
    "fslroi.cmdline == 'fslroi %s bar.nii 0 1' % anatfile"
   ]
  },
  {
   "cell_type": "code",
   "execution_count": null,
   "metadata": {},
   "outputs": [],
   "source": []
  },
  {
   "cell_type": "code",
   "execution_count": 2,
   "metadata": {},
   "outputs": [
    {
     "ename": "ModuleNotFoundError",
     "evalue": "No module named 'nipype'",
     "output_type": "error",
     "traceback": [
      "\u001b[0;31m---------------------------------------------------------------------------\u001b[0m",
      "\u001b[0;31mModuleNotFoundError\u001b[0m                       Traceback (most recent call last)",
      "\u001b[0;32m<ipython-input-2-1c5d8be96d21>\u001b[0m in \u001b[0;36m<module>\u001b[0;34m\u001b[0m\n\u001b[0;32m----> 1\u001b[0;31m \u001b[0;32mimport\u001b[0m \u001b[0mnipype\u001b[0m\u001b[0;34m\u001b[0m\u001b[0;34m\u001b[0m\u001b[0m\n\u001b[0m",
      "\u001b[0;31mModuleNotFoundError\u001b[0m: No module named 'nipype'"
     ]
    }
   ],
   "source": [
    "import nipype"
   ]
  },
  {
   "cell_type": "code",
   "execution_count": 5,
   "metadata": {},
   "outputs": [
    {
     "name": "stdout",
     "output_type": "stream",
     "text": [
      "Collecting package metadata (current_repodata.json): done\n",
      "Solving environment: done\n",
      "\n",
      "# All requested packages already installed.\n",
      "\n",
      "\n",
      "Note: you may need to restart the kernel to use updated packages.\n"
     ]
    }
   ],
   "source": [
    "conda install nipype"
   ]
  },
  {
   "cell_type": "code",
   "execution_count": 14,
   "metadata": {},
   "outputs": [],
   "source": [
    "import nipype.interfaces.fsl as fsl\n"
   ]
  },
  {
   "cell_type": "code",
   "execution_count": 21,
   "metadata": {},
   "outputs": [],
   "source": [
    "from nipype.interfaces.fsl import ExtractROI\n",
    "from nipype.testing import anatfile\n",
    "fslroi = ExtractROI(in_file=anatfile, roi_file='bar.nii', t_min=0,\n",
    "                    t_size=1)\n",
    "#fslroi.cmdline == 'fslroi %s bar.nii 0 1' % anatfile"
   ]
  },
  {
   "cell_type": "code",
   "execution_count": 24,
   "metadata": {},
   "outputs": [
    {
     "data": {
      "text/plain": [
       "\u001b[0;31mInit signature:\u001b[0m \u001b[0mExtractROI\u001b[0m\u001b[0;34m(\u001b[0m\u001b[0;34m**\u001b[0m\u001b[0minputs\u001b[0m\u001b[0;34m)\u001b[0m\u001b[0;34m\u001b[0m\u001b[0;34m\u001b[0m\u001b[0m\n",
       "\u001b[0;31mDocstring:\u001b[0m     \n",
       "Uses FSL Fslroi command to extract region of interest (ROI)\n",
       "from an image.\n",
       "\n",
       "You can a) take a 3D ROI from a 3D data set (or if it is 4D, the\n",
       "same ROI is taken from each time point and a new 4D data set is\n",
       "created), b) extract just some time points from a 4D data set, or\n",
       "c) control time and space limits to the ROI.  Note that the\n",
       "arguments are minimum index and size (not maximum index).  So to\n",
       "extract voxels 10 to 12 inclusive you would specify 10 and 3 (not\n",
       "10 and 12).\n",
       "\n",
       "\n",
       "Examples\n",
       "--------\n",
       "\n",
       ">>> from nipype.interfaces.fsl import ExtractROI\n",
       ">>> from nipype.testing import anatfile\n",
       ">>> fslroi = ExtractROI(in_file=anatfile, roi_file='bar.nii', t_min=0,\n",
       "...                     t_size=1)\n",
       ">>> fslroi.cmdline == 'fslroi %s bar.nii 0 1' % anatfile\n",
       "True\n",
       "\u001b[0;31mInit docstring:\u001b[0m Subclasses must implement __init__\n",
       "\u001b[0;31mFile:\u001b[0m           ~/anaconda3/envs/Cuda10/lib/python3.7/site-packages/nipype/interfaces/fsl/utils.py\n",
       "\u001b[0;31mType:\u001b[0m           type\n",
       "\u001b[0;31mSubclasses:\u001b[0m     \n"
      ]
     },
     "metadata": {},
     "output_type": "display_data"
    }
   ],
   "source": [
    "ExtractROI?"
   ]
  },
  {
   "cell_type": "code",
   "execution_count": 11,
   "metadata": {},
   "outputs": [
    {
     "name": "stdout",
     "output_type": "stream",
     "text": [
      "Object `nipype.interfaces.fsl` not found.\n"
     ]
    }
   ],
   "source": [
    "nipype.interfaces.fsl?"
   ]
  },
  {
   "cell_type": "code",
   "execution_count": 12,
   "metadata": {},
   "outputs": [
    {
     "ename": "AttributeError",
     "evalue": "module 'nipype.interfaces' has no attribute 'fsl'",
     "output_type": "error",
     "traceback": [
      "\u001b[0;31m---------------------------------------------------------------------------\u001b[0m",
      "\u001b[0;31mAttributeError\u001b[0m                            Traceback (most recent call last)",
      "\u001b[0;32m<ipython-input-12-6e6f452d8564>\u001b[0m in \u001b[0;36m<module>\u001b[0;34m\u001b[0m\n\u001b[0;32m----> 1\u001b[0;31m \u001b[0mnipype\u001b[0m\u001b[0;34m.\u001b[0m\u001b[0minterfaces\u001b[0m\u001b[0;34m.\u001b[0m\u001b[0mfsl\u001b[0m\u001b[0;34m.\u001b[0m\u001b[0mbase\u001b[0m\u001b[0;34m.\u001b[0m\u001b[0mcheck_fsl\u001b[0m\u001b[0;34m(\u001b[0m\u001b[0;34m)\u001b[0m\u001b[0;34m\u001b[0m\u001b[0;34m\u001b[0m\u001b[0m\n\u001b[0m",
      "\u001b[0;31mAttributeError\u001b[0m: module 'nipype.interfaces' has no attribute 'fsl'"
     ]
    }
   ],
   "source": [
    "nipype.interfaces.fsl.base.check_fsl()\n"
   ]
  },
  {
   "cell_type": "code",
   "execution_count": 13,
   "metadata": {},
   "outputs": [
    {
     "data": {
      "text/plain": [
       "'5.0.10'"
      ]
     },
     "execution_count": 13,
     "metadata": {},
     "output_type": "execute_result"
    }
   ],
   "source": [
    "from nipype.interfaces.fsl import Info\n",
    "Info.version()  "
   ]
  },
  {
   "cell_type": "code",
   "execution_count": null,
   "metadata": {},
   "outputs": [],
   "source": []
  }
 ],
 "metadata": {
  "kernelspec": {
   "display_name": "Python 3",
   "language": "python",
   "name": "python3"
  },
  "language_info": {
   "codemirror_mode": {
    "name": "ipython",
    "version": 3
   },
   "file_extension": ".py",
   "mimetype": "text/x-python",
   "name": "python",
   "nbconvert_exporter": "python",
   "pygments_lexer": "ipython3",
   "version": "3.7.6"
  }
 },
 "nbformat": 4,
 "nbformat_minor": 4
}
