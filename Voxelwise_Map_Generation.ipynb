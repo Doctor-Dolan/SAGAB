{
 "cells": [
  {
   "cell_type": "code",
   "execution_count": null,
   "metadata": {},
   "outputs": [],
   "source": [
    "from utils.Variable_setup import *\n",
    "from utils.Extraction_functions import *\n",
    "from utils.ICC_functions import *\n",
    "import numpy as np\n",
    "import os\n",
    "import nibabel as nib"
   ]
  },
  {
   "cell_type": "code",
   "execution_count": null,
   "metadata": {},
   "outputs": [],
   "source": [
    "mask = nib.load(Template_Mask)\n",
    "aff = mask.affine\n",
    "mask = mask.get_fdata()\n",
    "mask = mask[:].astype(bool)"
   ]
  },
  {
   "cell_type": "code",
   "execution_count": null,
   "metadata": {},
   "outputs": [],
   "source": [
    "metrics = Metrics\n",
    "paradigms = Metrics_paradigms + Extracted_Metrics_paradigms"
   ]
  },
  {
   "cell_type": "markdown",
   "metadata": {},
   "source": [
    "## Makes the file locations array for a given image type"
   ]
  },
  {
   "cell_type": "code",
   "execution_count": null,
   "metadata": {},
   "outputs": [],
   "source": [
    "proc='GDT'\n",
    "digm='Single_Band'\n",
    "met='Fractional_Anisotropy'\n",
    "sessions=['ses-1', 'ses-2', 'ses-3']\n",
    "\n",
    "file_locations = np.full([30,3], np.nan, dtype=object)\n",
    "for sid, ses in enumerate(sessions):\n",
    "    fpath = os.path.join(Basic_maps_path,proc,digm,met,ses)\n",
    "    for sub in range(1,num_subjects+1):\n",
    "        substring = 'sub-'+str(sub).zfill(2)+'_'+ses+'*'\n",
    "        file = find(substring, fpath)\n",
    "        if not file:\n",
    "            continue\n",
    "        else:\n",
    "            file_locations[sub-1,sid] = file[0]"
   ]
  },
  {
   "cell_type": "code",
   "execution_count": null,
   "metadata": {},
   "outputs": [],
   "source": [
    "#Loads all niftii images into a 5D numpy\n",
    "whole_cohort = load_whole_cohort(file_locations)"
   ]
  },
  {
   "cell_type": "code",
   "execution_count": null,
   "metadata": {},
   "outputs": [],
   "source": [
    "#Calculates ICC, CVws, CVbs on 5D numpy\n",
    "Curr_ICC, Curr_CVws, Curr_CVbs = ICC_Voxelwise_Vector(whole_cohort,mask)"
   ]
  },
  {
   "cell_type": "code",
   "execution_count": null,
   "metadata": {},
   "outputs": [],
   "source": [
    "sessions=['ses-1', 'ses-2', 'ses-3']\n",
    "Voxelwise_ICC = {}\n",
    "Voxelwise_CVws = {}\n",
    "Voxelwise_CVbs = {}\n",
    "\n",
    "for proc in preprocs:\n",
    "    print(proc)\n",
    "    Voxelwise_ICC[proc] = {}\n",
    "    Voxelwise_CVws[proc] = {}\n",
    "    Voxelwise_CVbs[proc] = {}\n",
    "\n",
    "    for digm in paradigms:\n",
    "        print(digm)\n",
    "        Voxelwise_ICC[proc][digm] = {}\n",
    "        Voxelwise_CVws[proc][digm] = {}\n",
    "        Voxelwise_CVbs[proc][digm] = {}\n",
    "        \n",
    "        for met in metrics:\n",
    "            print(met)\n",
    "\n",
    "            #Load file locations into array\n",
    "            file_locations = np.full([30,3], np.nan, dtype=object)\n",
    "            for sid, ses in enumerate(sessions):\n",
    "                fpath = os.path.join(Basic_maps_path,proc,digm,met,ses)\n",
    "                for sub in range(1,num_subjects+1):\n",
    "                    substring = 'sub-'+str(sub).zfill(2)+'_'+ses+'*'\n",
    "                    file = find(substring, fpath)\n",
    "                    if not file:\n",
    "                        continue\n",
    "                    else:\n",
    "                        file_locations[sub-1,sid] = file[0]\n",
    "                        \n",
    "            #Loads all niftii images into a 5D numpy\n",
    "            whole_cohort = load_whole_cohort(file_locations)\n",
    "            \n",
    "            #Calculates ICC, CVws, CVbs on 5D numpy\n",
    "            Curr_ICC, Curr_CVws, Curr_CVbs = ICC_Voxelwise_Vector(whole_cohort,mask)\n",
    "            \n",
    "            #Store results\n",
    "            floc = os.path.join(Voxelwise_maps_path,proc,digm)\n",
    "            fstring = met\n",
    "            \n",
    "            header = nib.Nifti1Header()\n",
    "            \n",
    "            Curr_ICC_nii = nib.Nifti1Image(Curr_ICC, aff, header)\n",
    "            Curr_CVws_nii = nib.Nifti1Image(Curr_CVws, aff, header)\n",
    "            Curr_CVbs_nii = nib.Nifti1Image(Curr_CVbs, aff, header)\n",
    "            \n",
    "            nib.save(Curr_ICC_nii, os.path.join(floc,met+'_ICC.nii'))\n",
    "            nib.save(Curr_CVws_nii, os.path.join(floc,met+'_CVws.nii'))\n",
    "            nib.save(Curr_CVbs_nii, os.path.join(floc,met+'_CVbs.nii'))\n",
    "            \n",
    "            np.save(os.path.join(floc,met+'_ICC.npy'), Curr_ICC)\n",
    "            np.save(os.path.join(floc,met+'_CVws.npy'), Curr_CVws)\n",
    "            np.save(os.path.join(floc,met+'_CVbs.npy'), Curr_CVbs)\n",
    "            \n",
    "            Voxelwise_ICC[proc][digm][met] = Curr_ICC\n",
    "            Voxelwise_CVws[proc][digm][met] = Curr_CVws\n",
    "            Voxelwise_CVbs[proc][digm][met] = Curr_CVbs\n",
    "print('finished')"
   ]
  },
  {
   "cell_type": "code",
   "execution_count": null,
   "metadata": {},
   "outputs": [],
   "source": [
    "import pickle\n",
    "\n",
    "with open(os.path.join(data_path,'Voxelwise_ICC.pckl'), 'wb') as handle:\n",
    "    pickle.dump(Voxelwise_ICC, handle, protocol=pickle.HIGHEST_PROTOCOL)\n",
    "\n",
    "with open(os.path.join(data_path,'Voxelwise_CVws.pckl'), 'wb') as handle:\n",
    "    pickle.dump(Voxelwise_CVws, handle, protocol=pickle.HIGHEST_PROTOCOL)\n",
    "\n",
    "with open(os.path.join(data_path,'Voxelwise_CVbs.pckl'), 'wb') as handle:\n",
    "    pickle.dump(Voxelwise_CVbs, handle, protocol=pickle.HIGHEST_PROTOCOL)"
   ]
  }
 ],
 "metadata": {
  "kernelspec": {
   "display_name": "Python 3",
   "language": "python",
   "name": "python3"
  },
  "language_info": {
   "codemirror_mode": {
    "name": "ipython",
    "version": 3
   },
   "file_extension": ".py",
   "mimetype": "text/x-python",
   "name": "python",
   "nbconvert_exporter": "python",
   "pygments_lexer": "ipython3",
   "version": "3.7.6"
  }
 },
 "nbformat": 4,
 "nbformat_minor": 4
}
