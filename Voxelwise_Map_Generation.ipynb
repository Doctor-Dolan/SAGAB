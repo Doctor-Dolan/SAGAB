{
 "cells": [
  {
   "cell_type": "code",
   "execution_count": null,
   "metadata": {},
   "outputs": [],
   "source": [
    "from utils.Variable_setup import *\n",
    "from utils.Extraction_functions import *\n",
    "from utils.ICC_functions import *\n",
    "import numpy as np\n",
    "import os\n",
    "import nipy"
   ]
  },
  {
   "cell_type": "code",
   "execution_count": null,
   "metadata": {},
   "outputs": [],
   "source": [
    "metrics = Metrics\n",
    "paradigms = Metrics_paradigms + Extracted_Metrics_paradigms"
   ]
  },
  {
   "cell_type": "markdown",
   "metadata": {},
   "source": [
    "## Makes the file locations array for a given image type"
   ]
  },
  {
   "cell_type": "code",
   "execution_count": null,
   "metadata": {},
   "outputs": [],
   "source": [
    "mask = nipy.load_image(Template_Mask).get_data()"
   ]
  },
  {
   "cell_type": "code",
   "execution_count": 4,
   "metadata": {
    "collapsed": true,
    "jupyter": {
     "outputs_hidden": true
    }
   },
   "outputs": [
    {
     "ename": "NameError",
     "evalue": "name 'num_subjects' is not defined",
     "output_type": "error",
     "traceback": [
      "\u001b[0;31m---------------------------------------------------------------------------\u001b[0m",
      "\u001b[0;31mNameError\u001b[0m                                 Traceback (most recent call last)",
      "\u001b[0;32m<ipython-input-4-e1012be267c9>\u001b[0m in \u001b[0;36m<module>\u001b[0;34m\u001b[0m\n\u001b[0;32m----> 1\u001b[0;31m \u001b[0mfile_locations\u001b[0m \u001b[0;34m=\u001b[0m \u001b[0mnp\u001b[0m\u001b[0;34m.\u001b[0m\u001b[0mzeros\u001b[0m\u001b[0;34m(\u001b[0m\u001b[0mnum_subjects\u001b[0m\u001b[0;34m,\u001b[0m \u001b[0mnum_sessions\u001b[0m\u001b[0;34m)\u001b[0m\u001b[0;34m\u001b[0m\u001b[0;34m\u001b[0m\u001b[0m\n\u001b[0m\u001b[1;32m      2\u001b[0m \u001b[0mfpath\u001b[0m \u001b[0;34m=\u001b[0m \u001b[0mos\u001b[0m\u001b[0;34m.\u001b[0m\u001b[0mpath\u001b[0m\u001b[0;34m.\u001b[0m\u001b[0mjoin\u001b[0m\u001b[0;34m(\u001b[0m\u001b[0mBasic_maps_path\u001b[0m\u001b[0;34m,\u001b[0m\u001b[0mproc\u001b[0m\u001b[0;34m,\u001b[0m\u001b[0mdigm\u001b[0m\u001b[0;34m,\u001b[0m\u001b[0mmet\u001b[0m\u001b[0;34m,\u001b[0m\u001b[0mses\u001b[0m\u001b[0;34m)\u001b[0m\u001b[0;34m\u001b[0m\u001b[0;34m\u001b[0m\u001b[0m\n\u001b[1;32m      3\u001b[0m \u001b[0;32mfor\u001b[0m \u001b[0mi\u001b[0m \u001b[0;32min\u001b[0m \u001b[0mrange\u001b[0m\u001b[0;34m(\u001b[0m\u001b[0;36m1\u001b[0m\u001b[0;34m,\u001b[0m\u001b[0mnum_subjects\u001b[0m\u001b[0;34m+\u001b[0m\u001b[0;36m1\u001b[0m\u001b[0;34m)\u001b[0m\u001b[0;34m:\u001b[0m\u001b[0;34m\u001b[0m\u001b[0;34m\u001b[0m\u001b[0m\n\u001b[1;32m      4\u001b[0m     \u001b[0msubstring\u001b[0m \u001b[0;34m=\u001b[0m \u001b[0;34m'sub-'\u001b[0m\u001b[0;34m+\u001b[0m\u001b[0mstr\u001b[0m\u001b[0;34m(\u001b[0m\u001b[0mi\u001b[0m\u001b[0;34m)\u001b[0m\u001b[0;34m.\u001b[0m\u001b[0mzfill\u001b[0m\u001b[0;34m(\u001b[0m\u001b[0;36m2\u001b[0m\u001b[0;34m)\u001b[0m\u001b[0;34m+\u001b[0m\u001b[0;34m'_'\u001b[0m\u001b[0;34m+\u001b[0m\u001b[0mses\u001b[0m\u001b[0;34m+\u001b[0m\u001b[0;34m'*'\u001b[0m\u001b[0;34m\u001b[0m\u001b[0;34m\u001b[0m\u001b[0m\n\u001b[1;32m      5\u001b[0m     \u001b[0mfile\u001b[0m \u001b[0;34m=\u001b[0m \u001b[0mfind\u001b[0m\u001b[0;34m(\u001b[0m\u001b[0msubstring\u001b[0m\u001b[0;34m,\u001b[0m \u001b[0mfpath\u001b[0m\u001b[0;34m)\u001b[0m\u001b[0;34m\u001b[0m\u001b[0;34m\u001b[0m\u001b[0m\n",
      "\u001b[0;31mNameError\u001b[0m: name 'num_subjects' is not defined"
     ]
    }
   ],
   "source": [
    "proc='GDT'\n",
    "digm='Single_Band'\n",
    "met='Fractional_Anisotropy'\n",
    "\n",
    "file_locations = np.full([30,3], np.nan, dtype=object)\n",
    "for ses in range(1, num_sessions+1):\n",
    "    fpath = os.path.join(Basic_maps_path,proc,digm,met,ses)\n",
    "    for sub in range(1,num_subjects+1):\n",
    "        substring = 'sub-'+str(sub).zfill(2)+'_'+ses+'*'\n",
    "        file = find(substring, fpath)\n",
    "        if not file:\n",
    "            continue\n",
    "        else:\n",
    "            file_locations[sub,ses] = os.path.join(fpath,file)\n",
    "            \n",
    "#Loads all niftii images into a 5D numpy\n",
    "whole_cohort = load_whole_cohort(file_locations)\n",
    "\n",
    "#Calculates ICC, CVws, CVbs on 5D numpy\n",
    "Curr_ICC, Curr_CVws, Curr_CVbs = ICC_Voxelwise_Vector(whole_cohort,mask)\n",
    "\n",
    "#Store results\n",
    "Voxelwise_ICC[proc][digm][met] = Curr_ICC\n",
    "Voxelwise_CVws[proc][digm][met] = Curr_CVws\n",
    "Voxelwise_CVbs[proc][digm][met] = Curr_CVbs"
   ]
  },
  {
   "cell_type": "code",
   "execution_count": null,
   "metadata": {},
   "outputs": [],
   "source": [
    "\n",
    "Voxelwise_ICC = {}\n",
    "Voxelwise_CVws = {}\n",
    "Voxelwise_CVbs = {}\n",
    "\n",
    "for proc in preprocs:\n",
    "    Voxelwise_ICC[proc] = {}\n",
    "    Voxelwise_CVws[proc] = {}\n",
    "    Voxelwise_CVbs[proc] = {}\n",
    "\n",
    "    for digm in paradigms:\n",
    "        Voxelwise_ICC[proc][digm] = {}\n",
    "        Voxelwise_CVws[proc][digm] = {}\n",
    "        Voxelwise_CVbs[proc][digm] = {}\n",
    "        \n",
    "        for met in metrics:\n",
    "\n",
    "            #Load file locations into array\n",
    "            file_locations = np.full([30,3], np.nan, dtype=object)\n",
    "            \n",
    "            for ses in range(1, num_sessions+1):\n",
    "                fpath = os.path.join(Basic_maps_path,proc,digm,met,ses)\n",
    "                for sub in range(1,num_subjects+1):\n",
    "                    substring = 'sub-'+str(sub).zfill(2)+'_'+ses+'*'\n",
    "                    file = find(substring, fpath)\n",
    "                    if not file:\n",
    "                        continue\n",
    "                    else:\n",
    "                        file_locations[sub,ses] = os.path.join(fpath,file)\n",
    "                        \n",
    "            #Loads all niftii images into a 5D numpy\n",
    "            whole_cohort = load_whole_cohort(file_locations)\n",
    "            \n",
    "            #Calculates ICC, CVws, CVbs on 5D numpy\n",
    "            Curr_ICC, Curr_CVws, Curr_CVbs = ICC_Voxelwise_Vector(whole_cohort,mask)\n",
    "            \n",
    "            #Store results\n",
    "            Voxelwise_ICC[proc][digm][met] = Curr_ICC\n",
    "            Voxelwise_CVws[proc][digm][met] = Curr_CVws\n",
    "            Voxelwise_CVbs[proc][digm][met] = Curr_CVbs\n",
    "            \n",
    "#Loop through file structure\n",
    "#Make 5D numpy array\n",
    "#Compute Voxelwise ICC\n",
    "#Save Voxelwise ICC map (niftii and numpy)\n"
   ]
  }
 ],
 "metadata": {
  "kernelspec": {
   "display_name": "Python 3",
   "language": "python",
   "name": "python3"
  },
  "language_info": {
   "codemirror_mode": {
    "name": "ipython",
    "version": 3
   },
   "file_extension": ".py",
   "mimetype": "text/x-python",
   "name": "python",
   "nbconvert_exporter": "python",
   "pygments_lexer": "ipython3",
   "version": "3.7.4"
  }
 },
 "nbformat": 4,
 "nbformat_minor": 4
}
