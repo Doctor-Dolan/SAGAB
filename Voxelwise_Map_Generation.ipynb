{
 "cells": [
  {
   "cell_type": "code",
   "execution_count": 1,
   "metadata": {},
   "outputs": [
    {
     "name": "stdout",
     "output_type": "stream",
     "text": [
      "200720-14:42:17,876 nipype.utils INFO:\n",
      "\t Running nipype version 1.5.0-rc1 (latest: 1.5.0)\n"
     ]
    }
   ],
   "source": [
    "from utils.Variable_setup import *\n",
    "from utils.Extraction_functions import *\n",
    "from utils.ICC_functions import *\n",
    "import numpy as np\n",
    "import os\n",
    "import nibabel as nib"
   ]
  },
  {
   "cell_type": "code",
   "execution_count": 19,
   "metadata": {},
   "outputs": [],
   "source": [
    "mask = nib.load(Template_Mask).dataobj\n",
    "mask = mask[:].astype(bool)"
   ]
  },
  {
   "cell_type": "code",
   "execution_count": 3,
   "metadata": {},
   "outputs": [],
   "source": [
    "metrics = Metrics\n",
    "paradigms = Metrics_paradigms + Extracted_Metrics_paradigms"
   ]
  },
  {
   "cell_type": "markdown",
   "metadata": {},
   "source": [
    "## Makes the file locations array for a given image type"
   ]
  },
  {
   "cell_type": "code",
   "execution_count": 4,
   "metadata": {},
   "outputs": [],
   "source": [
    "proc='GDT'\n",
    "digm='Single_Band'\n",
    "met='Fractional_Anisotropy'\n",
    "sessions=['ses-1', 'ses-2', 'ses-3']\n",
    "\n",
    "file_locations = np.full([30,3], np.nan, dtype=object)\n",
    "for sid, ses in enumerate(sessions):\n",
    "    fpath = os.path.join(Basic_maps_path,proc,digm,met,ses)\n",
    "    for sub in range(1,num_subjects+1):\n",
    "        substring = 'sub-'+str(sub).zfill(2)+'_'+ses+'*'\n",
    "        file = find(substring, fpath)\n",
    "        if not file:\n",
    "            continue\n",
    "        else:\n",
    "            file_locations[sub-1,sid] = file[0]"
   ]
  },
  {
   "cell_type": "code",
   "execution_count": 5,
   "metadata": {
    "collapsed": true,
    "jupyter": {
     "outputs_hidden": true
    }
   },
   "outputs": [
    {
     "name": "stdout",
     "output_type": "stream",
     "text": [
      "subject:  1\n",
      "session:  1\n",
      "subject:  1\n",
      "session:  2\n",
      "subject:  1\n",
      "session:  3\n",
      "subject:  2\n",
      "session:  1\n",
      "subject:  2\n",
      "session:  2\n",
      "subject:  2\n",
      "session:  3\n",
      "subject:  3\n",
      "session:  1\n",
      "subject:  3\n",
      "session:  2\n",
      "subject:  3\n",
      "session:  3\n",
      "subject:  4\n",
      "session:  1\n",
      "subject:  4\n",
      "session:  2\n",
      "subject:  4\n",
      "session:  3\n",
      "subject:  5\n",
      "session:  1\n",
      "subject:  5\n",
      "session:  2\n",
      "subject:  5\n",
      "session:  3\n",
      "subject:  6\n",
      "session:  1\n",
      "subject:  6\n",
      "session:  2\n",
      "subject:  6\n",
      "session:  3\n",
      "subject:  7\n",
      "session:  1\n",
      "subject:  7\n",
      "session:  2\n",
      "subject:  7\n",
      "session:  3\n",
      "subject:  8\n",
      "session:  1\n",
      "sub:  8  ses:  1  no file\n",
      "subject:  8\n",
      "session:  2\n",
      "sub:  8  ses:  2  no file\n",
      "subject:  8\n",
      "session:  3\n",
      "sub:  8  ses:  3  no file\n",
      "subject:  9\n",
      "session:  1\n",
      "subject:  9\n",
      "session:  2\n",
      "subject:  9\n",
      "session:  3\n",
      "subject:  10\n",
      "session:  1\n",
      "subject:  10\n",
      "session:  2\n",
      "subject:  10\n",
      "session:  3\n",
      "subject:  11\n",
      "session:  1\n",
      "subject:  11\n",
      "session:  2\n",
      "subject:  11\n",
      "session:  3\n",
      "subject:  12\n",
      "session:  1\n",
      "subject:  12\n",
      "session:  2\n",
      "subject:  12\n",
      "session:  3\n",
      "subject:  13\n",
      "session:  1\n",
      "subject:  13\n",
      "session:  2\n",
      "subject:  13\n",
      "session:  3\n",
      "subject:  14\n",
      "session:  1\n",
      "subject:  14\n",
      "session:  2\n",
      "subject:  14\n",
      "session:  3\n",
      "subject:  15\n",
      "session:  1\n",
      "subject:  15\n",
      "session:  2\n",
      "subject:  15\n",
      "session:  3\n",
      "subject:  16\n",
      "session:  1\n",
      "subject:  16\n",
      "session:  2\n",
      "subject:  16\n",
      "session:  3\n",
      "subject:  17\n",
      "session:  1\n",
      "subject:  17\n",
      "session:  2\n",
      "subject:  17\n",
      "session:  3\n",
      "subject:  18\n",
      "session:  1\n",
      "subject:  18\n",
      "session:  2\n",
      "subject:  18\n",
      "session:  3\n",
      "subject:  19\n",
      "session:  1\n",
      "subject:  19\n",
      "session:  2\n",
      "subject:  19\n",
      "session:  3\n",
      "sub:  19  ses:  3  no file\n",
      "subject:  20\n",
      "session:  1\n",
      "subject:  20\n",
      "session:  2\n",
      "subject:  20\n",
      "session:  3\n",
      "subject:  21\n",
      "session:  1\n",
      "subject:  21\n",
      "session:  2\n",
      "subject:  21\n",
      "session:  3\n",
      "subject:  22\n",
      "session:  1\n",
      "subject:  22\n",
      "session:  2\n",
      "subject:  22\n",
      "session:  3\n",
      "subject:  23\n",
      "session:  1\n",
      "subject:  23\n",
      "session:  2\n",
      "subject:  23\n",
      "session:  3\n",
      "subject:  24\n",
      "session:  1\n",
      "subject:  24\n",
      "session:  2\n",
      "subject:  24\n",
      "session:  3\n",
      "sub:  24  ses:  3  no file\n",
      "subject:  25\n",
      "session:  1\n",
      "subject:  25\n",
      "session:  2\n",
      "subject:  25\n",
      "session:  3\n",
      "subject:  26\n",
      "session:  1\n",
      "subject:  26\n",
      "session:  2\n",
      "subject:  26\n",
      "session:  3\n",
      "subject:  27\n",
      "session:  1\n",
      "subject:  27\n",
      "session:  2\n",
      "subject:  27\n",
      "session:  3\n",
      "subject:  28\n",
      "session:  1\n",
      "subject:  28\n",
      "session:  2\n",
      "subject:  28\n",
      "session:  3\n",
      "subject:  29\n",
      "session:  1\n",
      "subject:  29\n",
      "session:  2\n",
      "subject:  29\n",
      "session:  3\n",
      "subject:  30\n",
      "session:  1\n",
      "sub:  30  ses:  1  no file\n",
      "subject:  30\n",
      "session:  2\n",
      "subject:  30\n",
      "session:  3\n",
      "sub:  30  ses:  3  no file\n"
     ]
    },
    {
     "ename": "IndexError",
     "evalue": "only integers, slices (`:`), ellipsis (`...`), numpy.newaxis (`None`) and integer or boolean arrays are valid indices",
     "output_type": "error",
     "traceback": [
      "\u001b[0;31m---------------------------------------------------------------------------\u001b[0m",
      "\u001b[0;31mIndexError\u001b[0m                                Traceback (most recent call last)",
      "\u001b[0;32m<ipython-input-5-dc8ac4feb994>\u001b[0m in \u001b[0;36m<module>\u001b[0;34m\u001b[0m\n\u001b[1;32m      3\u001b[0m \u001b[0;34m\u001b[0m\u001b[0m\n\u001b[1;32m      4\u001b[0m \u001b[0;31m#Calculates ICC, CVws, CVbs on 5D numpy\u001b[0m\u001b[0;34m\u001b[0m\u001b[0;34m\u001b[0m\u001b[0;34m\u001b[0m\u001b[0m\n\u001b[0;32m----> 5\u001b[0;31m \u001b[0mCurr_ICC\u001b[0m\u001b[0;34m,\u001b[0m \u001b[0mCurr_CVws\u001b[0m\u001b[0;34m,\u001b[0m \u001b[0mCurr_CVbs\u001b[0m \u001b[0;34m=\u001b[0m \u001b[0mICC_Voxelwise_Vector\u001b[0m\u001b[0;34m(\u001b[0m\u001b[0mwhole_cohort\u001b[0m\u001b[0;34m,\u001b[0m\u001b[0mmask\u001b[0m\u001b[0;34m)\u001b[0m\u001b[0;34m\u001b[0m\u001b[0;34m\u001b[0m\u001b[0m\n\u001b[0m\u001b[1;32m      6\u001b[0m \u001b[0;34m\u001b[0m\u001b[0m\n\u001b[1;32m      7\u001b[0m \u001b[0;31m#Store results\u001b[0m\u001b[0;34m\u001b[0m\u001b[0;34m\u001b[0m\u001b[0;34m\u001b[0m\u001b[0m\n",
      "\u001b[0;32m~/SAGAB/utils/ICC_functions.py\u001b[0m in \u001b[0;36mICC_Voxelwise_Vector\u001b[0;34m(data, mask)\u001b[0m\n\u001b[1;32m     92\u001b[0m \u001b[0;34m\u001b[0m\u001b[0m\n\u001b[1;32m     93\u001b[0m     \u001b[0;31m# 30*3 list of images which are all NaNs\u001b[0m\u001b[0;34m\u001b[0m\u001b[0;34m\u001b[0m\u001b[0;34m\u001b[0m\u001b[0m\n\u001b[0;32m---> 94\u001b[0;31m     \u001b[0mImage_Nans\u001b[0m \u001b[0;34m=\u001b[0m \u001b[0mnp\u001b[0m\u001b[0;34m.\u001b[0m\u001b[0mall\u001b[0m\u001b[0;34m(\u001b[0m\u001b[0mnp\u001b[0m\u001b[0;34m.\u001b[0m\u001b[0misnan\u001b[0m\u001b[0;34m(\u001b[0m\u001b[0mdata\u001b[0m\u001b[0;34m[\u001b[0m\u001b[0mmask\u001b[0m\u001b[0;34m]\u001b[0m\u001b[0;34m)\u001b[0m\u001b[0;34m,\u001b[0m \u001b[0maxis\u001b[0m\u001b[0;34m=\u001b[0m\u001b[0;36m0\u001b[0m\u001b[0;34m)\u001b[0m\u001b[0;34m\u001b[0m\u001b[0;34m\u001b[0m\u001b[0m\n\u001b[0m\u001b[1;32m     95\u001b[0m \u001b[0;34m\u001b[0m\u001b[0m\n\u001b[1;32m     96\u001b[0m     \u001b[0;31m# 30*1 list of subjects for which any session is all NaNs\u001b[0m\u001b[0;34m\u001b[0m\u001b[0;34m\u001b[0m\u001b[0;34m\u001b[0m\u001b[0m\n",
      "\u001b[0;31mIndexError\u001b[0m: only integers, slices (`:`), ellipsis (`...`), numpy.newaxis (`None`) and integer or boolean arrays are valid indices"
     ]
    }
   ],
   "source": [
    "#Loads all niftii images into a 5D numpy\n",
    "whole_cohort = load_whole_cohort(file_locations)"
   ]
  },
  {
   "cell_type": "code",
   "execution_count": 27,
   "metadata": {},
   "outputs": [
    {
     "data": {
      "text/plain": [
       "<matplotlib.image.AxesImage at 0x7fdd9fdcee50>"
      ]
     },
     "execution_count": 27,
     "metadata": {},
     "output_type": "execute_result"
    },
    {
     "data": {
      "image/png": "[encoded data removed]",
      "text/plain": [
       "<Figure size 432x288 with 1 Axes>"
      ]
     },
     "metadata": {
      "needs_background": "light"
     },
     "output_type": "display_data"
    }
   ],
   "source": [
    "import matplotlib.pyplot as plt\n",
    "%matplotlib inline\n",
    "plt.imshow(Curr_CVbs[:,:,60])"
   ]
  },
  {
   "cell_type": "code",
   "execution_count": 20,
   "metadata": {},
   "outputs": [
    {
     "name": "stderr",
     "output_type": "stream",
     "text": [
      "/mnt/storage/home/robert/SAGAB/utils/ICC_functions.py:162: RuntimeWarning: invalid value encountered in true_divide\n",
      "  ICC = (BMS - EMS) / (BMS + (nsessions-1)*EMS)\n",
      "/mnt/storage/home/robert/SAGAB/utils/ICC_functions.py:163: RuntimeWarning: invalid value encountered in true_divide\n",
      "  CVws = (WMS ** 0.5) / grandmeans;\n",
      "/mnt/storage/home/robert/SAGAB/utils/ICC_functions.py:164: RuntimeWarning: invalid value encountered in true_divide\n",
      "  CVbs = (BMS ** 0.5) / grandmeans;\n"
     ]
    },
    {
     "name": "stdout",
     "output_type": "stream",
     "text": [
      "False\n",
      "True\n"
     ]
    },
    {
     "ename": "NameError",
     "evalue": "name 'Voxelwise_ICC' is not defined",
     "output_type": "error",
     "traceback": [
      "\u001b[0;31m---------------------------------------------------------------------------\u001b[0m",
      "\u001b[0;31mNameError\u001b[0m                                 Traceback (most recent call last)",
      "\u001b[0;32m<ipython-input-20-c1af2e3bd1c6>\u001b[0m in \u001b[0;36m<module>\u001b[0;34m\u001b[0m\n\u001b[1;32m      3\u001b[0m \u001b[0;34m\u001b[0m\u001b[0m\n\u001b[1;32m      4\u001b[0m \u001b[0;31m#Store results\u001b[0m\u001b[0;34m\u001b[0m\u001b[0;34m\u001b[0m\u001b[0;34m\u001b[0m\u001b[0m\n\u001b[0;32m----> 5\u001b[0;31m \u001b[0mVoxelwise_ICC\u001b[0m\u001b[0;34m[\u001b[0m\u001b[0mproc\u001b[0m\u001b[0;34m]\u001b[0m\u001b[0;34m[\u001b[0m\u001b[0mdigm\u001b[0m\u001b[0;34m]\u001b[0m\u001b[0;34m[\u001b[0m\u001b[0mmet\u001b[0m\u001b[0;34m]\u001b[0m \u001b[0;34m=\u001b[0m \u001b[0mCurr_ICC\u001b[0m\u001b[0;34m\u001b[0m\u001b[0;34m\u001b[0m\u001b[0m\n\u001b[0m\u001b[1;32m      6\u001b[0m \u001b[0mVoxelwise_CVws\u001b[0m\u001b[0;34m[\u001b[0m\u001b[0mproc\u001b[0m\u001b[0;34m]\u001b[0m\u001b[0;34m[\u001b[0m\u001b[0mdigm\u001b[0m\u001b[0;34m]\u001b[0m\u001b[0;34m[\u001b[0m\u001b[0mmet\u001b[0m\u001b[0;34m]\u001b[0m \u001b[0;34m=\u001b[0m \u001b[0mCurr_CVws\u001b[0m\u001b[0;34m\u001b[0m\u001b[0;34m\u001b[0m\u001b[0m\n\u001b[1;32m      7\u001b[0m \u001b[0mVoxelwise_CVbs\u001b[0m\u001b[0;34m[\u001b[0m\u001b[0mproc\u001b[0m\u001b[0;34m]\u001b[0m\u001b[0;34m[\u001b[0m\u001b[0mdigm\u001b[0m\u001b[0;34m]\u001b[0m\u001b[0;34m[\u001b[0m\u001b[0mmet\u001b[0m\u001b[0;34m]\u001b[0m \u001b[0;34m=\u001b[0m \u001b[0mCurr_CVbs\u001b[0m\u001b[0;34m\u001b[0m\u001b[0;34m\u001b[0m\u001b[0m\n",
      "\u001b[0;31mNameError\u001b[0m: name 'Voxelwise_ICC' is not defined"
     ]
    }
   ],
   "source": [
    "#Calculates ICC, CVws, CVbs on 5D numpy\n",
    "Curr_ICC, Curr_CVws, Curr_CVbs = ICC_Voxelwise_Vector(whole_cohort,mask)"
   ]
  },
  {
   "cell_type": "code",
   "execution_count": null,
   "metadata": {},
   "outputs": [],
   "source": [
    "\n",
    "Voxelwise_ICC = {}\n",
    "Voxelwise_CVws = {}\n",
    "Voxelwise_CVbs = {}\n",
    "\n",
    "for proc in preprocs:\n",
    "    Voxelwise_ICC[proc] = {}\n",
    "    Voxelwise_CVws[proc] = {}\n",
    "    Voxelwise_CVbs[proc] = {}\n",
    "\n",
    "    for digm in paradigms:\n",
    "        Voxelwise_ICC[proc][digm] = {}\n",
    "        Voxelwise_CVws[proc][digm] = {}\n",
    "        Voxelwise_CVbs[proc][digm] = {}\n",
    "        \n",
    "        for met in metrics:\n",
    "\n",
    "            #Load file locations into array\n",
    "            file_locations = np.full([30,3], np.nan, dtype=object)\n",
    "            \n",
    "            for ses in range(1, num_sessions+1):\n",
    "                fpath = os.path.join(Basic_maps_path,proc,digm,met,ses)\n",
    "                for sub in range(1,num_subjects+1):\n",
    "                    substring = 'sub-'+str(sub).zfill(2)+'_'+ses+'*'\n",
    "                    file = find(substring, fpath)\n",
    "                    if not file:\n",
    "                        continue\n",
    "                    else:\n",
    "                        file_locations[sub,ses] = os.path.join(fpath,file)\n",
    "                        \n",
    "            #Loads all niftii images into a 5D numpy\n",
    "            whole_cohort = load_whole_cohort(file_locations)\n",
    "            \n",
    "            #Calculates ICC, CVws, CVbs on 5D numpy\n",
    "            Curr_ICC, Curr_CVws, Curr_CVbs = ICC_Voxelwise_Vector(whole_cohort,mask)\n",
    "            \n",
    "            #Store results\n",
    "            Voxelwise_ICC[proc][digm][met] = Curr_ICC\n",
    "            Voxelwise_CVws[proc][digm][met] = Curr_CVws\n",
    "            Voxelwise_CVbs[proc][digm][met] = Curr_CVbs\n",
    "            \n",
    "#Loop through file structure\n",
    "#Make 5D numpy array\n",
    "#Compute Voxelwise ICC\n",
    "#Save Voxelwise ICC map (niftii and numpy)\n"
   ]
  }
 ],
 "metadata": {
  "kernelspec": {
   "display_name": "Python 3",
   "language": "python",
   "name": "python3"
  },
  "language_info": {
   "codemirror_mode": {
    "name": "ipython",
    "version": 3
   },
   "file_extension": ".py",
   "mimetype": "text/x-python",
   "name": "python",
   "nbconvert_exporter": "python",
   "pygments_lexer": "ipython3",
   "version": "3.7.6"
  }
 },
 "nbformat": 4,
 "nbformat_minor": 4
}
